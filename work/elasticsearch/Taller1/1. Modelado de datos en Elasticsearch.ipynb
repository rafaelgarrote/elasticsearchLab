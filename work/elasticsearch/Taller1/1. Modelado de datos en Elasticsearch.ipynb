{
 "cells": [
  {
   "cell_type": "markdown",
   "metadata": {},
   "source": [
    "# Lab 1: Modelado de datos en Elasticsearch\n",
    "\n",
    "## Introducción\n",
    "\n",
    "En esta práctica vamos a aprender a modelar los datos en Elasticsearch explorando las diferentes alternativas para crear un mapping type usando la API de Elasticsearch y la interfaz gráfica de Kibana:\n",
    "\n",
    "* Obtener información del cluster de Elasticsearch.\n",
    "* Explorar la información asociada a un índice.\n",
    "* Insertar datos en Elasticserach.\n",
    "* Definir un mapping type para índice.\n",
    "* Usar dynamic templates para definir el mapping type de un índice.\n",
    "* CRUD en Elasticsearch.\n",
    "\n",
    "En la maquina virtual que estás utilizando para realizar estas prácticas hay instalado un nodo de Elasticsearch y la versión correspondiente de Kibana.\n",
    "\n",
    "* Para acceder al cluster de Elasticserach puedes utilizar la dirección http://127.0.0.1:9200\n",
    "* Para acceder a Kibana pudes utilizar la dirección http://127.0.0.1:5601"
   ]
  },
  {
   "cell_type": "markdown",
   "metadata": {},
   "source": [
    "## Información del cluster\n",
    "\n",
    "Antes de empezar con el modelado de datos en Elasticsearch, vamos a ver como extraer información del cluster de elasticsearch.\n",
    "\n",
    "Si accedemos driectamente a la URL raíz del cluster obtenemos información sobre la instalación del cluster, como el nombre del cluster, la versión de Elasticsearch instalda o la versión de Lucene sobre la que está construida la versión de Elasticsearch.\n",
    "\n",
    "Vamos a ver esta infromación ejecutando un curl desde consola:"
   ]
  },
  {
   "cell_type": "code",
   "execution_count": null,
   "metadata": {},
   "outputs": [],
   "source": [
    "!curl -X GET http://elasticsearch:9200"
   ]
  },
  {
   "cell_type": "markdown",
   "metadata": {},
   "source": [
    "Con los datos obtenidos intenta contestar a estas preguntas:\n",
    "\n",
    "1. ¿Qué nombre tiene el cluster?\n",
    "2. ¿Qué versión de Elasticsearch hay instalada en la máquina virutal?\n",
    "3. ¿Sobre qué versión de Lucene está desarrollada esta versión de Elasticsearch?\n",
    "4. ¿Con qué versión de Elasticsearch son retrocompatibles los índices ya creados? "
   ]
  },
  {
   "cell_type": "markdown",
   "metadata": {},
   "source": [
    "Si lo que queremos es comprobar cuál es el estado de salud del cluster realizaremos la siguiente petición a la API REST de Elasticsearch:"
   ]
  },
  {
   "cell_type": "code",
   "execution_count": null,
   "metadata": {},
   "outputs": [],
   "source": [
    "!curl -X GET http://elasticsearch:9200/_cluster/health?pretty"
   ]
  },
  {
   "cell_type": "markdown",
   "metadata": {},
   "source": [
    "Si queremos obtener información sobre los índices creados en Elasticsearch pediremos la siguiente URL al cluster:"
   ]
  },
  {
   "cell_type": "code",
   "execution_count": null,
   "metadata": {},
   "outputs": [],
   "source": [
    "!curl -X GET http://elasticsearch:9200/_cat/indices?expand_wildcards=all"
   ]
  },
  {
   "cell_type": "markdown",
   "metadata": {},
   "source": [
    "Las columnas mostradas hacen referencia a la siguiente información:\n",
    "* health: Salud del índice (green, yellow o red).\n",
    "* status: Estado del índice (open, close).\n",
    "* index: Nombre del índice.\n",
    "* uuid: Identificador único del índice.                 \n",
    "* pri: Número del shards primarios.\n",
    "* rep: Número de réplicas del índice.\n",
    "* docs.count: Número de documentos indexados.\n",
    "* docs.deleted: Número de documentos marcados para ser borrados.\n",
    "* store.size: Total de datos almacenados en el índice.\n",
    "* pri.store.size: Datos almacenados en el sahrd primario.\n"
   ]
  },
  {
   "cell_type": "markdown",
   "metadata": {},
   "source": [
    "## Creación de índices y mapping types\n",
    "\n",
    "Vamos a crear un índice desde consola con curl para ver que información nos da Elasticsearch del índice que creemos."
   ]
  },
  {
   "cell_type": "code",
   "execution_count": null,
   "metadata": {},
   "outputs": [],
   "source": [
    "! curl -X PUT \"http://elasticsearch:9200/twitter?pretty\" -H 'Content-Type: application/json' -d' \\\n",
    "{ \\\n",
    "    \"settings\" : { \\\n",
    "        \"index\" : { \\\n",
    "            \"number_of_shards\" : 3, \\\n",
    "            \"number_of_replicas\" : 2 \\\n",
    "        } \\\n",
    "    } \\\n",
    "}'\n"
   ]
  },
  {
   "cell_type": "markdown",
   "metadata": {},
   "source": [
    "Si queremos ver sólo los datos del índice creado podemos filtar el resultado de _cat/indices:"
   ]
  },
  {
   "cell_type": "code",
   "execution_count": null,
   "metadata": {},
   "outputs": [],
   "source": [
    "!curl -X GET http://elasticsearch:9200/_cat/indices/twitter?v=true"
   ]
  },
  {
   "cell_type": "markdown",
   "metadata": {},
   "source": [
    "Con la información anterior ¿sabrías contestar a estas preguntas?:\n",
    "\n",
    "1. ¿Por qué la salud del cluster es yellow?\n",
    "2. ¿Cuántos shards primarios tiene el índice?\n",
    "3. ¿Cuantas réplicas hay de cada shard?\n",
    "4. Busca esta misma información en la interfaz de Kibana."
   ]
  },
  {
   "cell_type": "markdown",
   "metadata": {},
   "source": [
    "Vamos a investigar un poco más por que la salud del cluster es yellow. Para ello vamos a consultar la información de los shards del índice que hemos creado."
   ]
  },
  {
   "cell_type": "code",
   "execution_count": null,
   "metadata": {},
   "outputs": [],
   "source": [
    "!curl -X GET http://elasticsearch:9200/_cat/shards/twitter?v=true"
   ]
  },
  {
   "cell_type": "markdown",
   "metadata": {},
   "source": [
    "Las columnas que nos devuelve hacen referencia a la siguiente información:\n",
    "* index: El nombre del índice.\n",
    "* shard: El nombre del shard.\n",
    "* prirep: \n",
    "    * p: primario\n",
    "    * r: réplica\n",
    "* state: Estado de la réplica:\n",
    "    * INITIALIZING: El shard se está recuperando.\n",
    "    * RELOCATING: El shard se está realojando en otro nodo del cluster.\n",
    "    * STARTED: El shard está iniciado (funcionando normal).\n",
    "    * UNASSIGNED: El shard no se ha asignado a ningún nodo.\n",
    "* docs: Número de documentos almacenados en el shard.\n",
    "* store: Tamaño del shard.\n",
    "* ip: La ip del nodo donde está el shard.\n",
    "* node: identificador del nodo donde está el shard."
   ]
  },
  {
   "cell_type": "markdown",
   "metadata": {},
   "source": [
    "Ahora vamos a ver el mapping type que tiene el índice que hemos creado."
   ]
  },
  {
   "cell_type": "code",
   "execution_count": null,
   "metadata": {},
   "outputs": [],
   "source": [
    "!curl -X GET http://elasticsearch:9200/twitter?pretty=true"
   ]
  },
  {
   "cell_type": "markdown",
   "metadata": {},
   "source": [
    "Con la información obtenida:\n",
    "\n",
    "1. ¿Cuántos mappings tiene el índice?\n",
    "2. ¿Cuántos shards tiene el índice?\n",
    "3. ¿Cuántas réplicas tiene el índice?"
   ]
  },
  {
   "cell_type": "markdown",
   "metadata": {},
   "source": [
    "Vamos a insertar un dato en el índice."
   ]
  },
  {
   "cell_type": "code",
   "execution_count": null,
   "metadata": {},
   "outputs": [],
   "source": [
    "!curl -X POST \"elasticsearch:9200/twitter/_doc/?pretty\" -H 'Content-Type: application/json' -d' \\\n",
    "{ \\\n",
    "    \"user\" : \"kimchy\", \\\n",
    "    \"post_date\" : \"2009-11-15T14:12:12\", \\\n",
    "    \"message\" : \"trying out Elasticsearch\" \\\n",
    "}'"
   ]
  },
  {
   "cell_type": "markdown",
   "metadata": {},
   "source": [
    "1. ¿Qué id le ha asignado Elasticsearch al documento?\n",
    "\n",
    "Vamos a pedir a Elasticsearch otra vez los datos de índice."
   ]
  },
  {
   "cell_type": "code",
   "execution_count": null,
   "metadata": {},
   "outputs": [],
   "source": [
    "!curl -X GET http://elasticsearch:9200/twitter?pretty=true"
   ]
  },
  {
   "cell_type": "markdown",
   "metadata": {},
   "source": [
    "Con la información obtenida:\n",
    "\n",
    "1. ¿Cuantos mappings tiene ahora el índcie?\n",
    "2. ¿De qué tipo es el campo message?\n",
    "3. ¿De qué tipo es el campo date?\n",
    "4. ¿De qué tipo es el campo user?"
   ]
  },
  {
   "cell_type": "markdown",
   "metadata": {},
   "source": [
    "Si quieres profundizar en la API de Elasticsearch para poder extraer más información sobre la salud del cluster y el estado de sus índcies puedes consultar la documentación al respecto:\n",
    "* https://www.elastic.co/guide/en/elasticsearch/reference/current/cat.html#cat\n",
    "* https://www.elastic.co/guide/en/elasticsearch/reference/current/cluster.html#cluster"
   ]
  },
  {
   "cell_type": "markdown",
   "metadata": {},
   "source": [
    "## Practica 1\n",
    "\n",
    "Los siguientes ejercicios los vamos a realizar sobre Kibana, para ello entra en la siguiente URL: http://127.0.0.1:5601\n",
    "\n",
    "También podrías realizarlos con el comando curl desde este notebook.\n",
    "\n",
    "### 1. Crea los siguientes documentos desde la pestaña Dev Tools de kibana. \n",
    "\n",
    "Al insertar los documentos, les estamos asignando de forma explícita su identificador concatenando \"/id\" en la url de insercción de dato sen la api. Comprueba al insertar el documento que efectivamente le ha asignado el id indicado. Para ello revisa los datos que devuelve la API.\n",
    "\n",
    "Puesto que no hemos creado el índice \"mitienda\" previemente Elasticsearch creará un mapping dinámico infiriendo el esquema del documento insertado.\n",
    "\n",
    "`\n",
    "PUT mitienda/_doc/1\n",
    "{\n",
    "\"prenda\" : \"camiseta\",\n",
    "\"marca\" : \"nike\",\n",
    "\"color\" : \"rojo\",\n",
    "\"talla\" : 3,\n",
    "\"precio\" : 50,\n",
    "\"descripcion\" : \"sin mangas\",\n",
    "\"deporte\" : [\"baloncesto\", \"running\"]\n",
    "}\n",
    "`\n",
    "\n",
    "`\n",
    "PUT mitienda/_doc/2\n",
    "{\n",
    "\"prenda\" : \"camiseta\",\n",
    "\"marca\" : \"adidas\",\n",
    "\"color\" : \"rojo\",\n",
    "\"talla\" : 3,\n",
    "\"precio\" : 25,\n",
    "\"descripcion\" : \"descatalogada\",\n",
    "\"deporte\" : [\"futbol\"]\n",
    "}\n",
    "`\n",
    "\n",
    "`\n",
    "PUT mitienda/_doc/3\n",
    "{\n",
    "\"prenda\" : \"camiseta\",\n",
    "\"marca\" : \"Nike\",\n",
    "\"color\" : \"blanco\",\n",
    "\"talla\" : 4,\n",
    "\"precio\" : 45,\n",
    "\"descripcion\" : \"manga larga y reversible\",\n",
    "\"deporte\" : [\"futbol\"]\n",
    "}\n",
    "`\n",
    "\n",
    "`\n",
    "PUT mitienda/_doc/4\n",
    "{\n",
    "\"prenda\" : \"camiseta\",\n",
    "\"marca\" : \"adidas\",\n",
    "\"color\" : \"blanca\",\n",
    "\"talla\" : 4,\n",
    "\"precio\" : 25,\n",
    "\"descripcion\" : \"manga corta\",\n",
    "\"deporte\" : [\"running\"]\n",
    "}\n",
    "`"
   ]
  },
  {
   "cell_type": "markdown",
   "metadata": {},
   "source": [
    "### 2. Consulta el mapping type que ha creado Elasticsearch\n",
    "\n",
    "* Utiliza la api de Elasticsearch como hemos visto previamente.\n",
    "* O bien entra en la sección Menú > Management > Stack Management >  Data > Index Management y selecciona el índice \"mitienda\"\n",
    "\n",
    "\n",
    "1. ¿Cuál es el type que le ha asignado a los campos del documento de tipo texto? \n"
   ]
  },
  {
   "cell_type": "markdown",
   "metadata": {},
   "source": [
    "### 3. Vamos a añaidr algunos documentos más, en este caso no vamos a indicar el id del documento de forma explícita\n",
    "\n",
    "Igual que antes, puedes ejecutar estas consultas utilizando la herramienta de DevTools de Kibana o a través de la API de Elasticsearch utilizando el comando curl.\n",
    "\n",
    "`\n",
    "POST mitienda/_doc\n",
    "{\n",
    "\"prenda\" : \"pantalón\",\n",
    "\"marca\" : \"docker\",\n",
    "\"color\" : \"negro\",\n",
    "\"talla\" : 36,\n",
    "\"precio\" : 107,\n",
    "\"descripcion\" : \"pantalon skate\",\n",
    "\"valoracion\" : 3,\n",
    "\"deporte\" : [\"skate\"]\n",
    "}\n",
    "`\n",
    "\n",
    "`\n",
    "POST mitienda/_doc\n",
    "{\n",
    "\"prenda\" : \"camisa\",\n",
    "\"marca\" : \"vans\",\n",
    "\"color\" : \"azul\",\n",
    "\"talla\" : M,\n",
    "\"precio\" : 70,\n",
    "\"descripcion\" : \"camisa urban\",\n",
    "\"valoracion\" : 4,\n",
    "\"deporte\" : [\"skate\"]\n",
    "}\n",
    "`\n",
    "\n",
    "1. ¿Por qué hemos tenido que cambiar el método de la petición a POST?\n",
    "2. ¿Qué identificador les ha asignado a estos documentos Elasticsearch?\n",
    "\n",
    "Vuelve a consultar el mapping de índice de \"mitienda\"\n",
    "3. ¿Qué diferencias ha habido respecto al definición del anteriror mapping?\n"
   ]
  },
  {
   "cell_type": "markdown",
   "metadata": {},
   "source": [
    "## Asignación de types dinámicamente\n",
    "\n",
    "Como hemos visto antes, cuando no especificamos un mapping type explicito Elasticsearch lo genera dinámicamente haciendo inferencia de tipos de los campos de documento. \n",
    "De esta forma cuando Elsaticsearch encontraba un campo que contenía una cadena de texto le asignaba dinámicamente un type de tipo multi-field con el type text y el type keyword.\n",
    "\n",
    "Vamos a modificar este comportamiento creando una dynamic template que le indique a Elasticsearch que cuando encuentre un campo del documento de tipo \"String\" lo mapee como un type keyword.\n",
    "\n",
    "Para ello al crear el índice especificaremos la siguiente dynamic template (podemos añadir tantas como queramos):\n",
    "\n",
    "`\n",
    "\"dynamic_templates\": [\n",
    "  {\n",
    "    \"strings_as_keywords\": { \n",
    "      \"match_mapping_type\": \"string\", \n",
    "      \"mapping\": { \"type\": \"keyword\" } \n",
    "    } \n",
    "  }\n",
    "]\n",
    "`"
   ]
  },
  {
   "cell_type": "markdown",
   "metadata": {},
   "source": [
    "## Practica 2:\n",
    "\n",
    "Vamos a ponerlo en práctica:\n",
    "\n",
    "### 1. Crea un índice mitienda-2 especificando el dynamic template que hemos visto antes:"
   ]
  },
  {
   "cell_type": "code",
   "execution_count": null,
   "metadata": {},
   "outputs": [],
   "source": [
    "! curl -X PUT \"http://elasticsearch:9200/mitienda-2?pretty\" -H 'Content-Type: application/json' -d' \\\n",
    "{ \\\n",
    "    \"settings\" : { \\\n",
    "        \"index\" : { \\\n",
    "            \"number_of_shards\" : 3, \\\n",
    "            \"number_of_replicas\" : 1 \\\n",
    "        } \\\n",
    "    }, \\\n",
    "    \"mappings\": { \\\n",
    "      \"dynamic_templates\": [ \\\n",
    "        { \\\n",
    "          \"strings_as_keywords\": { \\\n",
    "            \"match_mapping_type\": \"string\", \\\n",
    "            \"mapping\": { \"type\": \"keyword\" } \\\n",
    "          } \\\n",
    "        } \\\n",
    "      ] \\\n",
    "    } \\\n",
    "}'\n"
   ]
  },
  {
   "cell_type": "markdown",
   "metadata": {},
   "source": [
    "1. Consulta la información de índice para comprobar que se ha creado correctamente."
   ]
  },
  {
   "cell_type": "markdown",
   "metadata": {},
   "source": [
    "### 2. Vamos a insertar unos documentos en el índice creado\n",
    "\n",
    "`\n",
    "POST mitienda-2/_doc\n",
    "{\n",
    "\"prenda\" : \"camiseta\",\n",
    "\"marca\" : \"nike\",\n",
    "\"color\" : \"rojo\",\n",
    "\"talla\" : 3,\n",
    "\"precio\" : 50,\n",
    "\"descripcion\" : \"sin mangas\",\n",
    "\"deporte\" : [\"baloncesto\", \"running\"]\n",
    "}\n",
    "`\n",
    "\n",
    "`\n",
    "POST mitienda-2/_doc\n",
    "{\n",
    "\"prenda\" : \"camiseta\",\n",
    "\"marca\" : \"adidas\",\n",
    "\"color\" : \"rojo\",\n",
    "\"talla\" : 3,\n",
    "\"precio\" : 25,\n",
    "\"descripcion\" : \"descatalogada\",\n",
    "\"deporte\" : [\"futbol\"]\n",
    "}\n",
    "`\n",
    "\n",
    "`\n",
    "POST mitienda-2/_doc\n",
    "{\n",
    "\"prenda\" : \"camiseta\",\n",
    "\"marca\" : \"Nike\",\n",
    "\"color\" : \"blanco\",\n",
    "\"talla\" : 4,\n",
    "\"precio\" : 45,\n",
    "\"descripcion\" : \"manga larga y reversible\",\n",
    "\"deporte\" : [\"futbol\"]\n",
    "}\n",
    "`\n",
    "\n",
    "`\n",
    "POST mitienda/_doc\n",
    "{\n",
    "\"prenda\" : \"camiseta\",\n",
    "\"marca\" : \"adidas\",\n",
    "\"color\" : \"blanca\",\n",
    "\"talla\" : 4,\n",
    "\"precio\" : 25,\n",
    "\"descripcion\" : \"manga corta\",\n",
    "\"deporte\" : [\"running\"]\n",
    "}\n",
    "`\n",
    "\n",
    "1. Vuelve a consultar el mapping del índice mitienda-2.\n",
    "2. ¿Que type tienen ahora asociados los campos String del documento?"
   ]
  },
  {
   "cell_type": "markdown",
   "metadata": {},
   "source": [
    "## Definir un mapping type específico para un índice\n",
    "\n",
    "Ya hemos visto como trabajar con mappings dinámicos es hora de ver como definir y especificar un mapping para un índice.\n",
    "\n",
    "Para ello a la hora de crear el índice debemos especificar el mapping type con el modelo de datos que hemos diseñado.\n",
    "\n",
    "`\n",
    "PUT my-explicit-index\n",
    "{\n",
    "  \"mappings\": {\n",
    "    \"properties\": {\n",
    "      \"year\": {\n",
    "        \"type\": \"integer\"\n",
    "      },\n",
    "      \"city\": {\n",
    "        \"type\": \"keyword\"\n",
    "      },\n",
    "      \"country\": {\n",
    "        \"type\": \"keyword\"\n",
    "      },\n",
    "      \"population_M\":{\n",
    "        \"type\": \"float\"\n",
    "      },\n",
    "      \"attractions\": {\n",
    "        \"type\": \"text\"\n",
    "      }\n",
    "    }\n",
    "  }\n",
    "}\n",
    "`\n",
    "\n",
    "1. Consulta el mapping type creado.\n",
    "2. Inserta 3 documentos que cumplan el mapping type definido. "
   ]
  },
  {
   "cell_type": "markdown",
   "metadata": {},
   "source": [
    "## Páctica 3\n",
    "\n",
    "### Para terminar vamos a hacer el resto de operaciones CRUD sobre un índice de Elasticsearch.\n",
    "\n",
    "Se llaman operaciones CRUD pro su acrónimo en inglés a las operaciones básicas sobre la únidad mínima de datos de un almacen de datos, en este caso sobre un documento:\n",
    "\n",
    "* (C)reate -> Insertar un documento \n",
    "* (R)ead -> Leer un documento\n",
    "* (U)pdate -> Modificar un documento\n",
    "* (D)elete -> Borrar un documento\n",
    "\n",
    "#### 1. Realizar una consulta de todos los documentos del índice mitienda\n",
    "\n",
    "`\n",
    "GET mitienda/_search\n",
    "`\n",
    "\n",
    "\n",
    "#### 2. Buscar el documento 1\n",
    "\n",
    "`\n",
    "GET mitienda/_doc/1\n",
    "`"
   ]
  },
  {
   "cell_type": "markdown",
   "metadata": {},
   "source": [
    "#### 3. Actualizar sólo el precio del documento 1 a 45\n",
    "\n",
    "`\n",
    "POST mitienda/_update/1\n",
    "{\n",
    "    \"doc\":{\n",
    "        \"precio\" : 45\n",
    "    }\n",
    "}\n",
    "`\n",
    "\n",
    "* Ejecuta la sentencia que te permita averiguar si el documento se ha modificado correctamente."
   ]
  },
  {
   "cell_type": "markdown",
   "metadata": {},
   "source": [
    "`\n",
    "GET mitienda/_doc/1\n",
    "`"
   ]
  },
  {
   "cell_type": "markdown",
   "metadata": {},
   "source": [
    "#### 4. Con la opción upsert modificaremos un documento si existe o lo creará si el documento no existe\n",
    "\n",
    "Para que un update actue como un UPSERT, le pasaremos el parámetro \"doc_as_upsert\" a true:\n",
    "\n",
    "`\n",
    "POST mitienda/_update/20\n",
    "{\n",
    "    \"doc\":{\n",
    "        \"precio\" : 90\n",
    "    },\n",
    "    \"doc_as_upsert\": true\n",
    "}\n",
    "`\n",
    "\n",
    "* Ejecuta la sentencia que te permita comprobar que el documento se creado.\n",
    "* ¿Cuántos camptos tiene este documento?\n",
    "* Crea y ejecuta la sentencia necesaria para modificar un docuemto que ya exista usando el parámetro upsert."
   ]
  },
  {
   "cell_type": "markdown",
   "metadata": {},
   "source": [
    "`\n",
    "GET mitienda/_doc/20\n",
    "`\n",
    "\n",
    "`\n",
    "POST mitienda/_update/4\n",
    "{\n",
    "    \"doc\":{\n",
    "        \"precio\" : 100\n",
    "    },\n",
    "    \"doc_as_upsert\": true\n",
    "}\n",
    "`\n",
    "\n",
    "`\n",
    "GET mitienda/_doc/4\n",
    "`"
   ]
  },
  {
   "cell_type": "markdown",
   "metadata": {},
   "source": [
    "#### 4. Modificar todos los documentos cuyo color sea rojo y cambiar su color a morado\n",
    "\n",
    "Para modificar el conjunto de documentos que cumplan una condición utilizaremos la operación \"update_by_query\" indicando en el body de la petición la consulta con la condición que tienen que cumplir los documentos para ser modificados. \n",
    "\n",
    "Acemás de la consulta tendremos que pasarle el script que genera la modificación. En este caso usaremos el lenguaje \"painless\" de elasticsearch que utilizaremos a menudo en los notebooks:\n",
    "* **source** representa el escript que queremos ejecutar para realizar la modificación. En este caso queremos modificar el campo color del documento original (ctx._source). ctx representa el contexto de la query, es decir cada uno de los match devueltos por la query y su campo _source hace referencia al documento original del match. \n",
    "* **lang** indica el lenguaje de scripting que estamos usando.\n",
    "* **params**  listado de parámetros que se le pasa al script del campo source.\n",
    "\n",
    "`\n",
    "POST mitienda/_update_by_query\n",
    "{\n",
    "  \"query\": {\n",
    "    \"term\": {\n",
    "      \"color.keyword\": \"rojo\"\n",
    "    }\n",
    "  },\n",
    "  \"script\" : {\n",
    "    \"source\": \"ctx._source.color = params.newValue\",\n",
    "    \"lang\": \"painless\",\n",
    "    \"params\": {\n",
    "      \"newValue\": \"morado\"\n",
    "    }\n",
    "  }\n",
    "}\n",
    "`\n",
    "\n",
    "* Ejecuta la sentencia que te permita comprbar que se han modificado correctamente los documentos que cumplen la condición."
   ]
  },
  {
   "cell_type": "markdown",
   "metadata": {},
   "source": [
    "`\n",
    "GET mitienda/_search\n",
    "`"
   ]
  },
  {
   "cell_type": "markdown",
   "metadata": {},
   "source": [
    "#### 5. Modificar los documentos cuya marca sea adidas para añadirle el campo descuento con valor 10\n",
    "\n",
    "Utilizaremos, al igual que en el ejercicio anterior, la operación \"update_by_query\" indicándole el script que realiza la operación de modificación que queremos realizar sobre los documentos que cumplan la condición de la query.\n",
    "\n",
    "`\n",
    "POST mitienda/_update_by_query\n",
    "{\n",
    "  \"query\": {\n",
    "    \"term\": {\n",
    "      \"marca.keyword\": \"adidas\"\n",
    "    }\n",
    "  },\n",
    "  \"script\" : {\n",
    "    \"source\": \"ctx._source.descuento = params.newValue\",\n",
    "    \"lang\": \"painless\",\n",
    "    \"params\": {\n",
    "      \"newValue\": 10\n",
    "    }\n",
    "  }\n",
    "}\n",
    "`\n",
    "\n",
    "* Ejecuta la sentencia que te permita comprbar que se han modificado correctamente los documentos que cumplen la condición."
   ]
  },
  {
   "cell_type": "markdown",
   "metadata": {},
   "source": [
    "`\n",
    "GET mitienda/_search\n",
    "`"
   ]
  },
  {
   "cell_type": "markdown",
   "metadata": {},
   "source": [
    "#### 6. Realizar una query que devuelva todos los documentos del índice\n",
    "\n",
    "Elasticserach por defecto sólo devuelve 10 docuementos. En los siguientes Notebooks veremos como funciona esta opearción en detalle.\n",
    "\n",
    "`\n",
    "GET mitienda/_search\n",
    "{\n",
    "  \"query\": {\n",
    "    \"match_all\": {}\n",
    "  }\n",
    "}\n",
    "`\n",
    "\n",
    "* ¿Cuántos elementos devuelve?\n",
    "* Basándote en la consutla del apartado anterior intenta realizar una consulta que devuleva todos los documentos cuyo color sea morado."
   ]
  },
  {
   "cell_type": "markdown",
   "metadata": {},
   "source": [
    "`\n",
    "GET mitienda/_search\n",
    "{\n",
    "  \"query\": {\n",
    "    \"term\": {\n",
    "      \"color.keyword\": \"morado\"\n",
    "    }\n",
    "  }\n",
    "}\n",
    "`"
   ]
  },
  {
   "cell_type": "markdown",
   "metadata": {},
   "source": [
    "#### 7. Borra el documento 1\n",
    "\n",
    "`\n",
    "DELETE mitienda/_doc/1\n",
    "`\n",
    "\n",
    "* Ejecuta la sentencia adecuada para comprobar que el documento se ha borrado correctamente."
   ]
  },
  {
   "cell_type": "markdown",
   "metadata": {},
   "source": [
    "`\n",
    "GET mitienda/_doc/1\n",
    "`"
   ]
  },
  {
   "cell_type": "markdown",
   "metadata": {},
   "source": [
    "#### 8. Borrar todos los documentos cuya marca sea adidas\n",
    "\n",
    "`\n",
    "POST /mitienda/_delete_by_query\n",
    "{\n",
    "  \"query\": {\n",
    "    \"match\": {\n",
    "      \"marca.keyword\": \"adidas\"\n",
    "    }\n",
    "  }\n",
    "}\n",
    "`\n",
    "\n",
    "* Realiza la consulta necesaria para comprobar que se han borrado los documentos adecuadamente. "
   ]
  },
  {
   "cell_type": "markdown",
   "metadata": {},
   "source": [
    "`\n",
    "GET mitienda/_search\n",
    "`\n",
    "\n",
    "o\n",
    "\n",
    "`\n",
    "GET mitienda/_search\n",
    "{\n",
    "  \"query\": {\n",
    "    \"term\": {\n",
    "      \"marca.keyword\": \"adidas\"\n",
    "    }\n",
    "  }\n",
    "}\n",
    "`"
   ]
  },
  {
   "cell_type": "code",
   "execution_count": null,
   "metadata": {},
   "outputs": [],
   "source": []
  }
 ],
 "metadata": {
  "kernelspec": {
   "display_name": "Python 3",
   "language": "python",
   "name": "python3"
  },
  "language_info": {
   "codemirror_mode": {
    "name": "ipython",
    "version": 3
   },
   "file_extension": ".py",
   "mimetype": "text/x-python",
   "name": "python",
   "nbconvert_exporter": "python",
   "pygments_lexer": "ipython3",
   "version": "3.6.3"
  }
 },
 "nbformat": 4,
 "nbformat_minor": 2
}
