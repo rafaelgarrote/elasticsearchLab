{
 "cells": [
  {
   "cell_type": "markdown",
   "metadata": {},
   "source": [
    "# Practica 4: Ingesta de datos con Logstash"
   ]
  },
  {
   "cell_type": "code",
   "execution_count": 5,
   "metadata": {},
   "outputs": [
    {
     "name": "stdout",
     "output_type": "stream",
     "text": [
      "{\"acknowledged\":true}"
     ]
    }
   ],
   "source": [
    "!curl -X PUT http://elasticsearch:9200/_index_template/web-logs \\\n",
    "      -H 'Content-Type: application/json' \\\n",
    "      -d \"@../data/web_logs/elasticsearch/web-logs-template.json\""
   ]
  },
  {
   "cell_type": "code",
   "execution_count": null,
   "metadata": {},
   "outputs": [],
   "source": [
    "!curl -X PUT http://elasticsearch:9200/_ingest/pipeline/web-logs \\\n",
    "      -H 'Content-Type: application/json' \\\n",
    "      -d \"@../data/web_logs/elasticsearch/web-logs-pipeline.json\""
   ]
  },
  {
   "cell_type": "code",
   "execution_count": 4,
   "metadata": {},
   "outputs": [
    {
     "name": "stdout",
     "output_type": "stream",
     "text": [
      "{\"acknowledged\":true}"
     ]
    }
   ],
   "source": [
    "!curl -X PUT http://elasticsearch:9200/_ingest/pipeline/web-logs -H 'Content-Type: application/json' -d' \\\n",
    "{ \\\n",
    "  \"description\" : \"Pipeline for parsing Apache HTTP Server access logs. Requires the geoip and user_agent plugins.\", \\\n",
    "  \"processors\" : [ \\\n",
    "    { \\\n",
    "      \"set\": { \\\n",
    "        \"field\": \"event.original\", \\\n",
    "        \"value\": \"{{message}}\" \\\n",
    "      } \\\n",
    "    }, \\\n",
    "    { \\\n",
    "      \"set\" : { \\\n",
    "        \"field\" : \"event.ingested\", \\\n",
    "        \"value\" : \"{{_ingest.timestamp}}\" \\\n",
    "      } \\\n",
    "    }, \\\n",
    "    { \\\n",
    "      \"grok\" : { \\\n",
    "        \"patterns\" : [ \\\n",
    "          \"%{IPORHOST:destination.domain} %{IPORHOST:source.ip} - %{DATA:user.name} \\\\[%{HTTPDATE:apache.access.time}\\\\] \\\"(?:%{WORD:http.request.method} %{DATA:url.original} HTTP/%{NUMBER:http.version}|-)?\\\" %{NUMBER:http.response.status_code:long} (?:%{NUMBER:http.response.body.bytes:long}|-)( \\\"%{DATA:http.request.referrer}\\\")?( \\\"%{DATA:user_agent.original}\\\")?\", \\\n",
    "          \"%{IPORHOST:source.address} - %{DATA:user.name} \\\\[%{HTTPDATE:apache.access.time}\\\\] \\\"(?:%{WORD:http.request.method} %{DATA:url.original} HTTP/%{NUMBER:http.version}|-)?\\\" %{NUMBER:http.response.status_code:long} (?:%{NUMBER:http.response.body.bytes:long}|-)( \\\"%{DATA:http.request.referrer}\\\")?( \\\"%{DATA:user_agent.original}\\\")?\", \\\n",
    "          \"%{IPORHOST:source.address} - %{DATA:user.name} \\\\[%{HTTPDATE:apache.access.time}\\\\] \\\"-\\\" %{NUMBER:http.response.status_code:long} -\", \\\n",
    "          \"\\\\[%{HTTPDATE:apache.access.time}\\\\] %{IPORHOST:source.address} %{DATA:apache.access.ssl.protocol} %{DATA:apache.access.ssl.cipher} \\\"%{WORD:http.request.method} %{DATA:url.original} HTTP/%{NUMBER:http.version}\\\" (-|%{NUMBER:http.response.body.bytes:long})\" \\\n",
    "        ], \\\n",
    "        \"ignore_missing\" : true, \\\n",
    "        \"field\" : \"message\" \\\n",
    "      } \\\n",
    "    }, \\\n",
    "    { \\\n",
    "      \"remove\" : { \\\n",
    "        \"field\" : \"message\" \\\n",
    "      } \\\n",
    "    }, \\\n",
    "    { \\\n",
    "      \"set\" : { \\\n",
    "        \"field\" : \"event.kind\", \\\n",
    "        \"value\" : \"event\" \\\n",
    "      } \\\n",
    "    }, \\\n",
    "    { \\\n",
    "      \"set\" : { \\\n",
    "        \"field\" : \"event.category\", \\\n",
    "        \"value\" : \"web\" \\\n",
    "      } \\\n",
    "    }, \\\n",
    "    { \\\n",
    "      \"set\" : { \\\n",
    "        \"value\" : \"success\", \\\n",
    "        \"if\" : \"ctx?.http?.response?.status_code != null && ctx.http.response.status_code < 400\", \\\n",
    "        \"field\" : \"event.outcome\" \\\n",
    "      } \\\n",
    "    }, \\\n",
    "    { \\\n",
    "      \"set\" : { \\\n",
    "        \"field\" : \"event.outcome\", \\\n",
    "        \"value\" : \"failure\", \\\n",
    "        \"if\" : \"ctx?.http?.response?.status_code != null && ctx.http.response.status_code > 399\" \\\n",
    "      } \\\n",
    "    }, \\\n",
    "    { \\\n",
    "      \"grok\" : { \\\n",
    "        \"field\" : \"source.address\", \\\n",
    "        \"ignore_missing\" : true, \\\n",
    "        \"patterns\" : [ \\\n",
    "          \"^(%{IP:source.ip}|%{HOSTNAME:source.domain})$\" \\\n",
    "        ] \\\n",
    "      } \\\n",
    "    }, \\\n",
    "    { \\\n",
    "      \"rename\" : { \\\n",
    "        \"target_field\" : \"event.created\", \\\n",
    "        \"field\" : \"@timestamp\" \\\n",
    "      } \\\n",
    "    }, \\\n",
    "    { \\\n",
    "      \"date\" : { \\\n",
    "        \"ignore_failure\" : true, \\\n",
    "        \"field\" : \"apache.access.time\", \\\n",
    "        \"target_field\" : \"@timestamp\", \\\n",
    "        \"formats\" : [ \\\n",
    "          \"dd/MMM/yyyy:H:m:s Z\" \\\n",
    "        ] \\\n",
    "      } \\\n",
    "    }, \\\n",
    "    { \\\n",
    "      \"remove\" : { \\\n",
    "        \"field\" : \"apache.access.time\", \\\n",
    "        \"ignore_failure\" : true \\\n",
    "      } \\\n",
    "    }, \\\n",
    "    { \\\n",
    "      \"user_agent\" : { \\\n",
    "        \"field\" : \"user_agent.original\", \\\n",
    "        \"ignore_failure\" : true \\\n",
    "      } \\\n",
    "    }, \\\n",
    "    { \\\n",
    "      \"geoip\" : { \\\n",
    "        \"field\" : \"source.ip\", \\\n",
    "        \"target_field\" : \"source.geo\", \\\n",
    "        \"ignore_missing\" : true \\\n",
    "      } \\\n",
    "    }, \\\n",
    "    { \\\n",
    "      \"geoip\" : { \\\n",
    "        \"target_field\" : \"source.as\", \\\n",
    "        \"properties\" : [ \\\n",
    "          \"asn\", \\\n",
    "          \"organization_name\" \\\n",
    "        ], \\\n",
    "        \"ignore_missing\" : true, \\\n",
    "        \"database_file\" : \"GeoLite2-ASN.mmdb\", \\\n",
    "        \"field\" : \"source.ip\" \\\n",
    "      } \\\n",
    "    }, \\\n",
    "    { \\\n",
    "      \"rename\" : { \\\n",
    "        \"field\" : \"source.as.asn\", \\\n",
    "        \"target_field\" : \"source.as.number\", \\\n",
    "        \"ignore_missing\" : true \\\n",
    "      } \\\n",
    "    }, \\\n",
    "    { \\\n",
    "      \"rename\" : { \\\n",
    "        \"ignore_missing\" : true, \\\n",
    "        \"field\" : \"source.as.organization_name\", \\\n",
    "        \"target_field\" : \"source.as.organization.name\" \\\n",
    "      } \\\n",
    "    }, \\\n",
    "    { \\\n",
    "      \"set\" : { \\\n",
    "        \"field\" : \"tls.cipher\", \\\n",
    "        \"value\" : \"{{apache.access.ssl.cipher}}\", \\\n",
    "        \"ignore_empty_value\" : true \\\n",
    "      } \\\n",
    "    }, \\\n",
    "    { \\\n",
    "      \"script\" : { \\\n",
    "        \"lang\" : \"painless\", \\\n",
    "        \"if\" : \"ctx?.apache?.access?.ssl?.protocol != null\", \\\n",
    "        \"source\" : \"def parts = ctx.apache.access.ssl.protocol.toLowerCase().splitOnToken(\\\"v\\\"); if (parts.length != 2) {\\n  return;\\n} if (parts[1].contains(\\\".\\\")) {\\n  ctx.tls.version = parts[1];\\n} else {\\n  ctx.tls.version = parts[1] + \\\".0\\\";\\n} ctx.tls.version_protocol = parts[0];\" \\\n",
    "      } \\\n",
    "    } \\\n",
    "  ], \\\n",
    "  \"on_failure\" : [ \\\n",
    "    { \\\n",
    "      \"set\" : { \\\n",
    "        \"field\" : \"error.message\", \\\n",
    "        \"value\" : \"{{ _ingest.on_failure_message }}\" \\\n",
    "      } \\\n",
    "    } \\\n",
    "  ] \\\n",
    "}'"
   ]
  },
  {
   "cell_type": "markdown",
   "metadata": {},
   "source": [
    "66.249.66.194 - - [22/Jan/2019:03:57:54 +0330] \"GET /m/filter/b1,p6 HTTP/1.1\" 200 19486 \"-\" \"Mozilla/5.0 (Linux; Android 6.0.1; Nexus 5X Build/MMB29P) AppleWebKit/537.36 (KHTML, like Gecko) Chrome/41.0.2272.96 Mobile Safari/537.36 (compatible; Googlebot/2.1; +http://www.google.com/bot.html)\" \"-\""
   ]
  },
  {
   "cell_type": "markdown",
   "metadata": {},
   "source": [
    "Definición del pieline de ingesta\n",
    "\n",
    "`\n",
    "input {\n",
    "    path => \"/tmp/data/*\"\n",
    "}\n",
    "\n",
    "filter {\n",
    "  mutate {\n",
    "    remove_field => [\"host\", \"@version\"]\n",
    "  }\n",
    "}\n",
    "\n",
    "output {\n",
    "  stdout {\n",
    "    codec => dots {}\n",
    "  }\n",
    "\n",
    "  elasticsearch {\n",
    "    hosts => \"localhost:9200\"\n",
    "    user => \"elastic\"\n",
    "    password => \"<password>\"\n",
    "    index => \"web-logs\"\n",
    "    pipeline => \"web-logs\"\n",
    "  }\n",
    "}\n",
    "`\n",
    "\n"
   ]
  },
  {
   "cell_type": "code",
   "execution_count": null,
   "metadata": {},
   "outputs": [],
   "source": [
    "docker run --rm -it --network=datahack-nosql_default \\\n",
    "    -v /Users/rgarrote/desarrollo/datahack-nosql/work/data/elasticsearch/web_logs/pipeline/:/usr/share/logstash/pipeline/ \\\n",
    "    -v /Users/rgarrote/desarrollo/datahack-nosql/work/data/elasticsearch/web_logs/data/:/tmp/data/ \\\n",
    "docker.elastic.co/logstash/logstash:8.3.3"
   ]
  },
  {
   "cell_type": "markdown",
   "metadata": {},
   "source": [
    "## 1. Find all the HTTP events with an HTTP response code of 200."
   ]
  },
  {
   "cell_type": "markdown",
   "metadata": {},
   "source": [
    "A term query can be used on the http.response.status_code field, as shown in the following request:\n",
    "\n",
    "`\n",
    "GET web-logs/_search\n",
    "{\n",
    "  \"query\": {\n",
    "    \"term\": {\n",
    "      \"http.response.status_code\": { \"value\": \"200\" }\n",
    "    }\n",
    "  }\n",
    "}\n",
    "`\n",
    "\n"
   ]
  },
  {
   "cell_type": "markdown",
   "metadata": {},
   "source": [
    "## 2. Find all HTTP events where the request method was of the POST type and resulted in a non-200 response code.\n"
   ]
  },
  {
   "cell_type": "markdown",
   "metadata": {},
   "source": [
    "Use two term queries within a bool compound query. The must and must_not clauses can be used to exclude all 200 response codes, as shown in the following request:\n",
    "\n",
    "`\n",
    "GET web-logs/_search\n",
    "{\n",
    "  \"query\": {\n",
    "    \"bool\": {\n",
    "      \"must_not\": [ { \"term\": { \"http.response.status_code\": { \"value\": \"200\" } } } ],\n",
    "      \"must\": [ { \"term\": { \"http.request.method\": { \"value\": \"POST\" } } } ]\n",
    "    }\n",
    "  }\n",
    "}\n",
    "`\n",
    "\n"
   ]
  },
  {
   "cell_type": "markdown",
   "metadata": {},
   "source": [
    "## 3. Find all HTTP events referencing the terms refrigerator and windows anywhere in the document."
   ]
  },
  {
   "cell_type": "markdown",
   "metadata": {},
   "source": [
    "A match query can be used on the event.original field. The and operator requires that both words (tokens) exist in the resulting document. Run the following query:\n",
    "\n",
    "`\n",
    "GET web-logs/_search\n",
    "{\n",
    "  \"query\": {\n",
    "    \"match\": {\n",
    "      \"event.original\":{\n",
    "        \"query\": \"refrigerator windows\",\n",
    "        \"operator\": \"and\"\n",
    "      }\n",
    "    }\n",
    "  }\n",
    "}\n",
    "`\n",
    "\n"
   ]
  },
  {
   "cell_type": "markdown",
   "metadata": {},
   "source": [
    "## 4. Look for all requests where users on Windows machines were looking at refrigerator-related pages on the website.\n"
   ]
  },
  {
   "cell_type": "markdown",
   "metadata": {},
   "source": [
    "Use a bool compound query with two match queries, as shown in the following command block:\n",
    "\n",
    "`\n",
    "GET web-logs/_search\n",
    "{\n",
    "  \"query\": {\n",
    "    \"bool\": {\n",
    "      \"must\": [\n",
    "        { \"match\": { \"url.original.text\": \"refrigerator\" } },\n",
    "        { \"match\": { \"user_agent.os.full.text\": \"windows\" } } \n",
    "      ]\n",
    "    }\n",
    "  }\n",
    "}\n",
    "`\n",
    "\n"
   ]
  },
  {
   "cell_type": "markdown",
   "metadata": {},
   "source": [
    "## 5. Look for all events originating from either South Africa, Ireland, or Hong Kong.\n"
   ]
  },
  {
   "cell_type": "markdown",
   "metadata": {},
   "source": [
    "Use a terms match query to look for the existence of a term in the list of terms, as shown in the following command block:\n",
    "\n",
    "`\n",
    "GET web-logs/_search\n",
    "{\n",
    "  \"query\": {\n",
    "    \"terms\": {\n",
    "      \"source.geo.country_name\": [ \"South Africa\", \"Ireland\", \"Hong Kong\" ]\n",
    "    }\n",
    "  }\n",
    "}\n",
    "`"
   ]
  },
  {
   "cell_type": "markdown",
   "metadata": {},
   "source": [
    "## 6. Find all HTTP GET events with response bodies of more than 100,000 bytes.\n"
   ]
  },
  {
   "cell_type": "markdown",
   "metadata": {},
   "source": [
    "Use a bool query containing a term match for GET events and a range filter for the numeric http.response.body.bytes field, as shown here:\n",
    "\n",
    "`\n",
    "GET web-logs/_search\n",
    "{\n",
    "  \"query\": {\n",
    "    \"bool\": {\n",
    "      \"must\": [ \n",
    "        { \"term\": { \"http.request.method\": { \"value\":\"GET\" } } },\n",
    "        { \"range\": { \"http.response.body.bytes\": { \"gte\":100000 } } }\n",
    "      ]\n",
    "    }\n",
    "  }\n",
    "}\n",
    "`\n"
   ]
  },
  {
   "cell_type": "code",
   "execution_count": null,
   "metadata": {},
   "outputs": [],
   "source": []
  }
 ],
 "metadata": {
  "kernelspec": {
   "display_name": "Python 3",
   "language": "python",
   "name": "python3"
  },
  "language_info": {
   "codemirror_mode": {
    "name": "ipython",
    "version": 3
   },
   "file_extension": ".py",
   "mimetype": "text/x-python",
   "name": "python",
   "nbconvert_exporter": "python",
   "pygments_lexer": "ipython3",
   "version": "3.6.3"
  }
 },
 "nbformat": 4,
 "nbformat_minor": 2
}
